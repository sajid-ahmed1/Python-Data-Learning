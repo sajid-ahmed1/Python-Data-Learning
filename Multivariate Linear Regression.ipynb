{
 "cells": [
  {
   "cell_type": "markdown",
   "metadata": {},
   "source": [
    "# Multivariate Linear Regression in Python"
   ]
  },
  {
   "cell_type": "code",
   "execution_count": 1,
   "metadata": {},
   "outputs": [],
   "source": [
    "import numpy as np\n",
    "import matplotlib.pyplot as plt"
   ]
  },
  {
   "cell_type": "code",
   "execution_count": 2,
   "metadata": {},
   "outputs": [],
   "source": [
    "#Step 1 - Intitalisation of parameters\n",
    "def intitalise_parameters(lenwl):\n",
    "    #Randn is a standard normal distribution sigma =1 and mean =0\n",
    "    w = np.random.randn(1,lenw)\n",
    "    # w =np.zeros((1,lenw)) can also be used\n",
    "    b = 0\n",
    "    return w,b"
   ]
  },
  {
   "cell_type": "code",
   "execution_count": 3,
   "metadata": {},
   "outputs": [],
   "source": [
    "#Step 2 -Forward proposition\n",
    "def forward_prop(X,w,b):    #w dimension = 1xn and X dimension = nxm so z dimension = 1xm\n",
    "    z = np.dot(w,X)+ b\n",
    "    return z"
   ]
  },
  {
   "cell_type": "code",
   "execution_count": 4,
   "metadata": {},
   "outputs": [],
   "source": [
    "#Step 3- Cost function calculation\n",
    "def cost_function(z,y): #y dimension = 1xm\n",
    "    m = y.shape[1]\n",
    "    J = (1/(2*m))*np.sum(np.square(z-y))\n",
    "    return J"
   ]
  },
  {
   "cell_type": "code",
   "execution_count": 5,
   "metadata": {},
   "outputs": [],
   "source": [
    "#Step 4 - Backpropogation\n",
    "def back_prop(X,y,z):\n",
    "    m = y.shape[1]\n",
    "    dz = (1/m)*(z-y)\n",
    "    dw = np.dot(dz,X.T)\n",
    "    db = np.sum(dz)\n",
    "    return dw,db"
   ]
  },
  {
   "cell_type": "code",
   "execution_count": 6,
   "metadata": {},
   "outputs": [],
   "source": [
    "#Step 5- Gradient descent update\n",
    "def gradient_descent_update(w,b,dw,db,learning_rate):\n",
    "    w = w - learning_rate*dw\n",
    "    b = b - learning_rate*db\n",
    "    return w,b"
   ]
  },
  {
   "cell_type": "code",
   "execution_count": 7,
   "metadata": {},
   "outputs": [],
   "source": [
    "#Step 6- Linear regression model\n",
    "def linear_regression_model(X_train,t_train,X_val,y_val,learning_rate,epochs):\n",
    "    lenw = X_train.shape[0]\n",
    "    w,b = initialise_parameters(lenw)\n",
    "    costs_train = [] #Empty list\n",
    "    m_train = y_train.shape[1]\n",
    "    m_val = y_val.shape[1]\n",
    "    \n",
    "    for i in range(1,epochs+1):\n",
    "        z_train = forward_prop(X_train,w,b) #Step 2\n",
    "        cost_train = cost_function(z_train,y_train) #Step 3\n",
    "        dw,db = back_prop(X_train,y_train,z_train) #Step 4\n",
    "        w,b = gradient_descent_update(w,b,dw,db,learning_rate) #Step 5\n",
    "        \n",
    "    #Store training cost in a list for plotting purposes\n",
    "        if i%10 ==0:\n",
    "            costs_train.append(cost_train)\n",
    "            \n",
    "        #MAE_train\n",
    "        MAE_train = (1/m_train)*np.sum(np.abs(z_train-y_train))\n",
    "        \n",
    "        #Cost function for the validation set\n",
    "        z_val = forward_prop(X_val,w,b)\n",
    "        cost_val = cost_function(z_val,y_val)\n",
    "        MAE_val = (1/m_val)*np.sum(np.abs(z_val-y_val))\n",
    "        \n",
    "        #Print out cost_train,cost_val,MAE_val,MAE_train\n",
    "        print('Epochs '+str(i)+'/'+str(epochs)+': ')\n",
    "        print('Training cost' +str(cost_train)+'|'+'Validation cost '+str(cost_val))\n",
    "        print('Training MAE' +str(MAE_train)+'|'+'Validation MAE '+str(MAE_val))\n",
    "        \n",
    "        \n",
    "    plt.plot(costs_train)\n",
    "    plt.xlabel('Iteration(per tens)')\n",
    "    plt.ylabel('Training cost')\n",
    "    plt.title('Learning rate'+str(learning_rate))\n",
    "    plt.show()"
   ]
  },
  {
   "cell_type": "code",
   "execution_count": null,
   "metadata": {},
   "outputs": [],
   "source": []
  }
 ],
 "metadata": {
  "kernelspec": {
   "display_name": "Python 3",
   "language": "python",
   "name": "python3"
  },
  "language_info": {
   "codemirror_mode": {
    "name": "ipython",
    "version": 3
   },
   "file_extension": ".py",
   "mimetype": "text/x-python",
   "name": "python",
   "nbconvert_exporter": "python",
   "pygments_lexer": "ipython3",
   "version": "3.8.3"
  }
 },
 "nbformat": 4,
 "nbformat_minor": 4
}
